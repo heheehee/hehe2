{
 "cells": [
  {
   "cell_type": "markdown",
   "id": "7e67f68e",
   "metadata": {},
   "source": [
    "# 创建数组"
   ]
  },
  {
   "cell_type": "code",
   "execution_count": 1,
   "id": "edc65c39",
   "metadata": {},
   "outputs": [],
   "source": [
    "import numpy as np"
   ]
  },
  {
   "cell_type": "code",
   "execution_count": 2,
   "id": "374de212",
   "metadata": {},
   "outputs": [
    {
     "name": "stdout",
     "output_type": "stream",
     "text": [
      "[0.3 0.5 4.2]\n",
      "[[3 4 5]\n",
      " [4 2 1]]\n",
      "<class 'numpy.ndarray'>\n"
     ]
    }
   ],
   "source": [
    "arr1=np.array([0.3,0.5,4.2])\n",
    "arr2=np.array([[3,4,5],[4,2,1]])\n",
    "print(arr1)\n",
    "print(arr2)\n",
    "print(type(arr1))"
   ]
  },
  {
   "cell_type": "code",
   "execution_count": 3,
   "id": "bf316dae",
   "metadata": {},
   "outputs": [
    {
     "name": "stdout",
     "output_type": "stream",
     "text": [
      "(3,)\n",
      "1\n",
      "float64\n",
      "(2, 3)\n",
      "2\n",
      "int64\n"
     ]
    }
   ],
   "source": [
    "#查看数组的基本属性\n",
    "print(arr1.shape)\n",
    "print(arr1.ndim)\n",
    "print(arr1.dtype)\n",
    "print(arr2.shape)\n",
    "print(arr2.ndim)\n",
    "print(arr2.dtype)"
   ]
  },
  {
   "cell_type": "code",
   "execution_count": 4,
   "id": "6743cb9d",
   "metadata": {},
   "outputs": [
    {
     "name": "stdout",
     "output_type": "stream",
     "text": [
      "[0.3, 0.5, 4.2]\n",
      "[0.3 0.5 4.2]\n",
      "[0.09, 0.25, 17.64]\n"
     ]
    },
    {
     "data": {
      "text/plain": [
       "array([ 0.09,  0.25, 17.64])"
      ]
     },
     "execution_count": 4,
     "metadata": {},
     "output_type": "execute_result"
    }
   ],
   "source": [
    "#初识数组的特点\n",
    "list1=[0.3,0.5,4.2]\n",
    "arr1=np.array([0.3,0.5,4.2])\n",
    "print(list1)\n",
    "print(arr1)\n",
    "\n",
    "# list1 ** 2\n",
    "print([i**2 for i in list1])\n",
    "arr1 ** 2"
   ]
  },
  {
   "cell_type": "code",
   "execution_count": 5,
   "id": "76390e73",
   "metadata": {},
   "outputs": [
    {
     "name": "stdout",
     "output_type": "stream",
     "text": [
      "[0 1 2 3 4 5 6 7 8 9]\n",
      "[0 1 2 3 4 5 6 7 8 9]\n",
      "[0.  0.1 0.2 0.3 0.4 0.5 0.6 0.7 0.8 0.9]\n"
     ]
    }
   ],
   "source": [
    "arr3=np.arange(0,10)\n",
    "print(arr3)\n",
    "#起点默认等于0\n",
    "arr4=np.arange(10)\n",
    "print(arr4)\n",
    "arr5=np.arange(0,1,0.1)\n",
    "print(arr5)"
   ]
  },
  {
   "cell_type": "code",
   "execution_count": 6,
   "id": "badd8b13",
   "metadata": {},
   "outputs": [
    {
     "name": "stdout",
     "output_type": "stream",
     "text": [
      "Help on built-in function arange in module numpy:\n",
      "\n",
      "arange(...)\n",
      "    arange([start,] stop[, step,], dtype=None, *, like=None)\n",
      "    \n",
      "    Return evenly spaced values within a given interval.\n",
      "    \n",
      "    Values are generated within the half-open interval ``[start, stop)``\n",
      "    (in other words, the interval including `start` but excluding `stop`).\n",
      "    For integer arguments the function is equivalent to the Python built-in\n",
      "    `range` function, but returns an ndarray rather than a list.\n",
      "    \n",
      "    When using a non-integer step, such as 0.1, the results will often not\n",
      "    be consistent.  It is better to use `numpy.linspace` for these cases.\n",
      "    \n",
      "    Parameters\n",
      "    ----------\n",
      "    start : integer or real, optional\n",
      "        Start of interval.  The interval includes this value.  The default\n",
      "        start value is 0.\n",
      "    stop : integer or real\n",
      "        End of interval.  The interval does not include this value, except\n",
      "        in some cases where `step` is not an integer and floating point\n",
      "        round-off affects the length of `out`.\n",
      "    step : integer or real, optional\n",
      "        Spacing between values.  For any output `out`, this is the distance\n",
      "        between two adjacent values, ``out[i+1] - out[i]``.  The default\n",
      "        step size is 1.  If `step` is specified as a position argument,\n",
      "        `start` must also be given.\n",
      "    dtype : dtype\n",
      "        The type of the output array.  If `dtype` is not given, infer the data\n",
      "        type from the other input arguments.\n",
      "    like : array_like\n",
      "        Reference object to allow the creation of arrays which are not\n",
      "        NumPy arrays. If an array-like passed in as ``like`` supports\n",
      "        the ``__array_function__`` protocol, the result will be defined\n",
      "        by it. In this case, it ensures the creation of an array object\n",
      "        compatible with that passed in via this argument.\n",
      "    \n",
      "        .. note::\n",
      "            The ``like`` keyword is an experimental feature pending on\n",
      "            acceptance of :ref:`NEP 35 <NEP35>`.\n",
      "    \n",
      "        .. versionadded:: 1.20.0\n",
      "    \n",
      "    Returns\n",
      "    -------\n",
      "    arange : ndarray\n",
      "        Array of evenly spaced values.\n",
      "    \n",
      "        For floating point arguments, the length of the result is\n",
      "        ``ceil((stop - start)/step)``.  Because of floating point overflow,\n",
      "        this rule may result in the last element of `out` being greater\n",
      "        than `stop`.\n",
      "    \n",
      "    See Also\n",
      "    --------\n",
      "    numpy.linspace : Evenly spaced numbers with careful handling of endpoints.\n",
      "    numpy.ogrid: Arrays of evenly spaced numbers in N-dimensions.\n",
      "    numpy.mgrid: Grid-shaped arrays of evenly spaced numbers in N-dimensions.\n",
      "    \n",
      "    Examples\n",
      "    --------\n",
      "    >>> np.arange(3)\n",
      "    array([0, 1, 2])\n",
      "    >>> np.arange(3.0)\n",
      "    array([ 0.,  1.,  2.])\n",
      "    >>> np.arange(3,7)\n",
      "    array([3, 4, 5, 6])\n",
      "    >>> np.arange(3,7,2)\n",
      "    array([3, 5])\n",
      "\n"
     ]
    }
   ],
   "source": [
    "help(np.arange)"
   ]
  },
  {
   "cell_type": "code",
   "execution_count": 7,
   "id": "a3c792a6",
   "metadata": {},
   "outputs": [
    {
     "name": "stdout",
     "output_type": "stream",
     "text": [
      "[0.  0.1 0.2 0.3 0.4 0.5 0.6 0.7 0.8 0.9 1. ]\n"
     ]
    }
   ],
   "source": [
    "arr6=np.linspace(0,1,11)\n",
    "#生成等差数组\n",
    "print(arr6)"
   ]
  },
  {
   "cell_type": "code",
   "execution_count": 8,
   "id": "f704bfb7",
   "metadata": {},
   "outputs": [
    {
     "name": "stdout",
     "output_type": "stream",
     "text": [
      "[[[0. 0. 0. 0. 0.]\n",
      "  [0. 0. 0. 0. 0.]\n",
      "  [0. 0. 0. 0. 0.]\n",
      "  [0. 0. 0. 0. 0.]]\n",
      "\n",
      " [[0. 0. 0. 0. 0.]\n",
      "  [0. 0. 0. 0. 0.]\n",
      "  [0. 0. 0. 0. 0.]\n",
      "  [0. 0. 0. 0. 0.]]\n",
      "\n",
      " [[0. 0. 0. 0. 0.]\n",
      "  [0. 0. 0. 0. 0.]\n",
      "  [0. 0. 0. 0. 0.]\n",
      "  [0. 0. 0. 0. 0.]]]\n"
     ]
    }
   ],
   "source": [
    "#利用zeros函数创建数组\n",
    "arr7=np.zeros([3,4,5])\n",
    "print(arr7)"
   ]
  },
  {
   "cell_type": "code",
   "execution_count": 9,
   "id": "59f40506",
   "metadata": {},
   "outputs": [
    {
     "name": "stdout",
     "output_type": "stream",
     "text": [
      "[3. 4. 5.]\n",
      "float64\n",
      "[1.2 4.  5. ]\n",
      "[1 4 5]\n"
     ]
    }
   ],
   "source": [
    "#数组的数据类型\n",
    "arr8=np.array([3,4,5],dtype=np.float64)#创建数组时，声明起数据类型\n",
    "print(arr8)\n",
    "print(arr8.dtype)\n",
    "\n",
    "arr8[0]=1.2\n",
    "print(arr8)\n",
    "print(np.int64(arr8))#转换数组的数据类型"
   ]
  },
  {
   "cell_type": "code",
   "execution_count": 10,
   "id": "1453b971",
   "metadata": {},
   "outputs": [
    {
     "name": "stdout",
     "output_type": "stream",
     "text": [
      "[0.79710914 0.42164295 0.00471608 0.90180962 0.14543386 0.78440472\n",
      " 0.65429753 0.8551308  0.76307446 0.00687179]\n",
      "[[0.38377332 0.22144068 0.13936082 0.9364113 ]\n",
      " [0.66486017 0.8719312  0.56926188 0.48079059]\n",
      " [0.4579212  0.6023793  0.3136965  0.97950115]]\n",
      "[ 0.55707014 -1.60193359 -0.17519289 -2.0996548   0.66539571 -0.0682692\n",
      " -1.06092206 -0.68329469 -0.61674806 -0.20748816]\n"
     ]
    }
   ],
   "source": [
    "#生成随机数\n",
    "print(np.random.random(10))  #无约束条件下的随机数\n",
    "print(np.random.rand(3,4))   #生成指定shape的均匀分布的随机数\n",
    "print(np.random.randn(10))   #生成服从指定shape的正态分布的随机数"
   ]
  },
  {
   "cell_type": "code",
   "execution_count": 11,
   "id": "9ff2b5a0",
   "metadata": {},
   "outputs": [
    {
     "name": "stdout",
     "output_type": "stream",
     "text": [
      "[0.3  0.78 0.24 5.   3.2 ]\n",
      "0.3\n",
      "0.3\n",
      "[0.78 0.24]\n",
      "[0.78 0.24]\n",
      "5.0 <class 'numpy.float64'>\n",
      "[5.]\n",
      "5.0 ()\n",
      "[5.] (1,)\n"
     ]
    }
   ],
   "source": [
    "#数组的索引\n",
    "arr1=np.array([0.3,0.78,0.24,5,3.2])\n",
    "print(arr1)\n",
    "print(arr1[0])  #一维数组单个元素的索引\n",
    "print(arr1[-5])\n",
    "\n",
    "#一维数组的多个元素的索引(切片)\n",
    "print(arr1[1:3]) #左开右闭\n",
    "print(arr1[-4:-2])\n",
    "\n",
    "res1=arr1[3]\n",
    "res2=arr1[3:4]\n",
    "print(res1,type(res1))\n",
    "print(res2)\n",
    "\n",
    "#res1和res2返回的类型不一样\n",
    "print(res1,res1.shape)\n",
    "print(res2,res2.shape)"
   ]
  },
  {
   "cell_type": "code",
   "execution_count": 12,
   "id": "64fa026f",
   "metadata": {},
   "outputs": [
    {
     "name": "stdout",
     "output_type": "stream",
     "text": [
      "[2.3 1.8 4.5]\n",
      "[4.5]\n",
      "[2.3 4.5]\n"
     ]
    }
   ],
   "source": [
    "#逻辑型索引\n",
    "arr2=np.array([2.3,1.8,4.5])\n",
    "print(arr2)\n",
    "print(arr2[[False,False,True]])  #将一个逻辑型的序列传到索引区间里去，根据取值来输出数据\n",
    "index=arr2 > 2 #将arr2中所有的值与2进行比较，输出判断的值\n",
    "print(arr2[index]) #将结果放进区间输出,达到对数据的筛选目的"
   ]
  },
  {
   "cell_type": "code",
   "execution_count": 13,
   "id": "b4fbe25b",
   "metadata": {},
   "outputs": [
    {
     "name": "stdout",
     "output_type": "stream",
     "text": [
      "[[ 1  2  3  4]\n",
      " [ 5  6  7  8]\n",
      " [ 9 10 11 12]]\n",
      "12\n",
      "[ 9 10 11 12]\n",
      "[1 5 9]\n",
      "[[ 6  7]\n",
      " [10 11]]\n",
      "[[ 9 10 11 12]]\n",
      "[[ 5  6  7  8]\n",
      " [ 9 10 11 12]]\n"
     ]
    }
   ],
   "source": [
    "#多维数组的索引\n",
    "arr3=np.arange(1,13).reshape([3,4])\n",
    "print(arr3)\n",
    "print(arr3[2,3])      #根据数据的行号和列号来取出数据\n",
    "print(arr3[2, 0:])    #取出整行数据，一维数组\n",
    "print(arr3[:,0])      #取出整列数据，一维数组\n",
    "print(arr3[1:3,1:3])  #取出指定部分的数据\n",
    "print(arr3[2:,:])     #取出整行数据，二维数组  注意返回值的shape\n",
    "\n",
    "print(arr3[arr3[:,0]>4,:])  #二维数组的逻辑性索引"
   ]
  },
  {
   "cell_type": "code",
   "execution_count": 14,
   "id": "0b805d47",
   "metadata": {},
   "outputs": [
    {
     "name": "stdout",
     "output_type": "stream",
     "text": [
      "[[ 1  2  3  4]\n",
      " [ 5  6  7  8]\n",
      " [ 9 10 11 12]]\n",
      "[[15  2  3  4]\n",
      " [ 5  6  7  8]\n",
      " [ 9 10 11 12]]\n"
     ]
    }
   ],
   "source": [
    "#修改数组中的元素\n",
    "arr3=np.arange(1,13).reshape([3,4])\n",
    "print(arr3)\n",
    "arr3[0,0]=15 \n",
    "print(arr3)"
   ]
  },
  {
   "cell_type": "code",
   "execution_count": 15,
   "id": "44721d93",
   "metadata": {},
   "outputs": [
    {
     "name": "stdout",
     "output_type": "stream",
     "text": [
      "[  1.  12.  23.  34.  45.  56.  67.  78.  89. 100.]\n",
      "[  1.  12.  23.  34.  45.  56.  67.  78.  89. 100.]\n",
      "[[  0.          15.55634919  31.11269837  46.66904756  62.22539674\n",
      "   77.78174593  93.33809512 108.8944443  124.45079349 140.00714267]\n",
      " [ 15.55634919   0.          15.55634919  31.11269837  46.66904756\n",
      "   62.22539674  77.78174593  93.33809512 108.8944443  124.45079349]\n",
      " [ 31.11269837  15.55634919   0.          15.55634919  31.11269837\n",
      "   46.66904756  62.22539674  77.78174593  93.33809512 108.8944443 ]\n",
      " [ 46.66904756  31.11269837  15.55634919   0.          15.55634919\n",
      "   31.11269837  46.66904756  62.22539674  77.78174593  93.33809512]\n",
      " [ 62.22539674  46.66904756  31.11269837  15.55634919   0.\n",
      "   15.55634919  31.11269837  46.66904756  62.22539674  77.78174593]\n",
      " [ 77.78174593  62.22539674  46.66904756  31.11269837  15.55634919\n",
      "    0.          15.55634919  31.11269837  46.66904756  62.22539674]\n",
      " [ 93.33809512  77.78174593  62.22539674  46.66904756  31.11269837\n",
      "   15.55634919   0.          15.55634919  31.11269837  46.66904756]\n",
      " [108.8944443   93.33809512  77.78174593  62.22539674  46.66904756\n",
      "   31.11269837  15.55634919   0.          15.55634919  31.11269837]\n",
      " [124.45079349 108.8944443   93.33809512  77.78174593  62.22539674\n",
      "   46.66904756  31.11269837  15.55634919   0.          15.55634919]\n",
      " [140.00714267 124.45079349 108.8944443   93.33809512  77.78174593\n",
      "   62.22539674  46.66904756  31.11269837  15.55634919   0.        ]]\n"
     ]
    }
   ],
   "source": [
    "#求解距离矩阵\n",
    "n = 10  #样本个数\n",
    "x = np.linspace(1,100,n)  #样本横坐标\n",
    "y = np.linspace(1,100,n)  #样本纵坐标\n",
    "\n",
    "dist=np.zeros([n,n]) #初始距离矩阵\n",
    "\n",
    "for i in range(n):\n",
    "    for j in range(n):\n",
    "        dist[i,j]=np.sqrt((x[i]-x[j])**2+(y[i]-y[j])**2)  #计算欧式距离\n",
    "\n",
    "print(x)\n",
    "print(y)\n",
    "print(dist)"
   ]
  },
  {
   "cell_type": "code",
   "execution_count": 16,
   "id": "cc6329f6",
   "metadata": {},
   "outputs": [
    {
     "name": "stdout",
     "output_type": "stream",
     "text": [
      "[ 1  2  3  4  5  6  7  8  9 10 11 12]\n",
      "[[ 1  2  3  4]\n",
      " [ 5  6  7  8]\n",
      " [ 9 10 11 12]]\n",
      "[[ 1  2  3]\n",
      " [ 4  5  6]\n",
      " [ 7  8  9]\n",
      " [10 11 12]]\n",
      "[[ 1  2  3  4]\n",
      " [ 5  6  7  8]\n",
      " [ 9 10 11 12]]\n",
      "[ 1  2  3  4  5  6  7  8  9 10 11 12]\n",
      "[[ 1  2  3  4]\n",
      " [ 5  6  7  8]\n",
      " [ 9 10 11 12]]\n",
      "[[ 1  2  3  4  1  2  3  4]\n",
      " [ 5  6  7  8  5  6  7  8]\n",
      " [ 9 10 11 12  9 10 11 12]]\n"
     ]
    }
   ],
   "source": [
    "#数组形态变化\n",
    "arr4=np.arange(1,13)\n",
    "print(arr4)\n",
    "print(arr4.reshape([3,4]))\n",
    "print(arr4.reshape([4,3]))\n",
    "\n",
    "arr5=arr4.reshape([3,4])\n",
    "print(arr5)\n",
    "print(arr5.ravel())  #数组展平\n",
    "arr5.flatten()\n",
    "\n",
    "arr6=arr4.reshape([3,4])\n",
    "print(arr6)\n",
    "np.vstack([arr5,arr6]) #纵向拼接\n",
    "print(np.hstack((arr5,arr6))) #横向拼接"
   ]
  },
  {
   "cell_type": "markdown",
   "id": "a3baec89",
   "metadata": {},
   "source": [
    "# 掌握NumPy矩阵与通用函数"
   ]
  },
  {
   "cell_type": "markdown",
   "id": "43e85710",
   "metadata": {},
   "source": [
    "## 通用函数： 是一种能够对数组中所有元素进行操作的函数"
   ]
  },
  {
   "cell_type": "code",
   "execution_count": 17,
   "id": "c60b95c9",
   "metadata": {},
   "outputs": [],
   "source": [
    "import numpy as np"
   ]
  },
  {
   "cell_type": "code",
   "execution_count": 18,
   "id": "f94ec19f",
   "metadata": {},
   "outputs": [
    {
     "name": "stdout",
     "output_type": "stream",
     "text": [
      "[[1 2 3]\n",
      " [4 5 6]\n",
      " [7 8 9]]\n",
      "<class 'numpy.matrix'>\n",
      "[[1 2 3]\n",
      " [4 5 6]\n",
      " [7 8 9]]\n",
      "<class 'numpy.matrix'>\n",
      "[[1 2 3 1 2 3]\n",
      " [4 5 6 4 5 6]\n",
      " [7 8 9 7 8 9]\n",
      " [1 2 3 1 2 3]\n",
      " [4 5 6 4 5 6]\n",
      " [7 8 9 7 8 9]]\n",
      "[[1 4 7]\n",
      " [2 5 8]\n",
      " [3 6 9]]\n",
      "[[ 3.15251974e+15 -6.30503948e+15  3.15251974e+15]\n",
      " [-6.30503948e+15  1.26100790e+16 -6.30503948e+15]\n",
      " [ 3.15251974e+15 -6.30503948e+15  3.15251974e+15]]\n"
     ]
    }
   ],
   "source": [
    "matr1=np.mat(\"1 2 3;4 5 6; 7 8 9\")\n",
    "print(matr1)\n",
    "print(type(matr1))  #类型是矩阵\n",
    "\n",
    "matr2=np.matrix([[1,2,3],[4,5,6],[7,8,9]])\n",
    "print(matr2)\n",
    "print(type(matr2))\n",
    "\n",
    "print(np.bmat('matr1 matr2;matr1 matr2'))  #实现矩阵拼接操作\n",
    "print(matr1.T) #矩阵的转置\n",
    "print(matr1.I) #求矩阵的逆"
   ]
  },
  {
   "cell_type": "code",
   "execution_count": 19,
   "id": "59053340",
   "metadata": {},
   "outputs": [
    {
     "name": "stdout",
     "output_type": "stream",
     "text": [
      "[1.2 1.4 1.6]\n",
      "[0.4 0.8 1.2]\n",
      "[0.2, 0.4, 0.6, 0.2, 0.4, 0.6]\n",
      "[0.4  1.   1.38]\n",
      "[0.04  0.24  0.468]\n",
      "[ True  True  True]\n",
      "[False  True  True]\n",
      "True\n",
      "False\n"
     ]
    }
   ],
   "source": [
    "#通用函数\n",
    "arr1=np.array([0.2,0.4,0.6])\n",
    "arr2=np.array([0.2,0.6,0.78])\n",
    "list1=[0.2,0.4,0.6]\n",
    "\n",
    "print(arr1 + 1)\n",
    "# print(list1 + 1) #非法操作\n",
    "print(arr1 * 2)\n",
    "print(list1 * 2) #注意其返回结果是将数组复制了一遍\n",
    "\n",
    "print(arr1 + arr2) #对应元素相加\n",
    "print(arr1 * arr2) #对应元素相乘\n",
    "\n",
    "print(arr1 > 0) #每一个元素都与0做比较\n",
    "print(arr1 < arr2) #两个数组相比结构需一样\n",
    "\n",
    "print(np.any(arr1 == 0.2)) #逻辑or\n",
    "print(np.all(arr1 == 0.2)) #逻辑and"
   ]
  },
  {
   "cell_type": "code",
   "execution_count": 20,
   "id": "cecf3c5e",
   "metadata": {},
   "outputs": [
    {
     "name": "stdout",
     "output_type": "stream",
     "text": [
      "[[ 1  2  3]\n",
      " [ 4  5  6]\n",
      " [ 7  8  9]\n",
      " [10 11 12]]\n",
      "[1 2 3]\n",
      "[[1]\n",
      " [2]\n",
      " [3]\n",
      " [4]]\n",
      "[[ 2  4  6]\n",
      " [ 5  7  9]\n",
      " [ 8 10 12]\n",
      " [11 13 15]]\n",
      "[[ 2  3  4]\n",
      " [ 6  7  8]\n",
      " [10 11 12]\n",
      " [14 15 16]]\n"
     ]
    }
   ],
   "source": [
    "#广播机制\n",
    "arr3=np.arange(1,13).reshape([4,3])\n",
    "arr4=np.array([1,2,3])\n",
    "arr5=np.array([[1],[2],[3],[4]])\n",
    "print(arr3)\n",
    "print(arr4)\n",
    "print(arr5)\n",
    "print(arr3 + arr4)\n",
    "print(arr3 + arr5)"
   ]
  },
  {
   "cell_type": "markdown",
   "id": "ff7fe8e0",
   "metadata": {},
   "source": [
    "# 利用NumPy进行统计分析"
   ]
  },
  {
   "cell_type": "code",
   "execution_count": 21,
   "id": "1292817d",
   "metadata": {},
   "outputs": [],
   "source": [
    "import numpy as np"
   ]
  },
  {
   "cell_type": "code",
   "execution_count": 22,
   "id": "6a13b2fc",
   "metadata": {},
   "outputs": [
    {
     "name": "stdout",
     "output_type": "stream",
     "text": [
      "[[ 1  2  3]\n",
      " [ 4  5  6]\n",
      " [ 7  8  9]\n",
      " [10 11 12]]\n",
      "[[ 1  2  3  4]\n",
      " [ 5  6  7  8]\n",
      " [ 9 10 11 12]]\n",
      "[[ 1  2  3]\n",
      " [ 4  5  6]\n",
      " [ 7  8  9]\n",
      " [10 11 12]]\n",
      "<numpy.lib.npyio.NpzFile object at 0x7f89b40b4f40>\n",
      "['arr_0', 'arr_1']\n",
      "[[ 1  2  3]\n",
      " [ 4  5  6]\n",
      " [ 7  8  9]\n",
      " [10 11 12]]\n"
     ]
    }
   ],
   "source": [
    "arr1=np.arange(1,13).reshape([4,3])\n",
    "arr2=np.arange(1,13).reshape([3,4])\n",
    "print(arr1)\n",
    "print(arr2)\n",
    "\n",
    "np.save('tmp/arr1.npy',arr1) #保存数据(以二进制方式保存)\n",
    "arr1_load=np.load('tmp/arr1.npy') #读取数据\n",
    "print(arr1_load)\n",
    "\n",
    "np.savez('tmp/arr1&arr2.npz',arr1,arr2) #保存多个数组\n",
    "arr1_2_load=np.load('tmp/arr1&arr2.npz')\n",
    "print(arr1_2_load)\n",
    "print(arr1_2_load.files) #查看数据文件中有哪些数组对象\n",
    "print(arr1_2_load['arr_0']) #访问数据文件中的具体数组对象"
   ]
  },
  {
   "cell_type": "code",
   "execution_count": 23,
   "id": "62b9aefb",
   "metadata": {},
   "outputs": [
    {
     "data": {
      "text/plain": [
       "array([[ 1.,  2.,  3.],\n",
       "       [ 4.,  5.,  6.],\n",
       "       [ 7.,  8.,  9.],\n",
       "       [10., 11., 12.]])"
      ]
     },
     "execution_count": 23,
     "metadata": {},
     "output_type": "execute_result"
    }
   ],
   "source": [
    "#读写txt文件\n",
    "# np.savetxt('tmp/arr1.txt')#以txt形式保存数据\n",
    "np.savetxt('tmp/arr1.txt',arr1,delimiter=',') #指定以,形式分隔数据\n",
    "# np.loadtxt('tmp/arr1.txt') #读取数据\n",
    "np.loadtxt('tmp/arr1.txt',delimiter=',') #读取数据"
   ]
  },
  {
   "cell_type": "code",
   "execution_count": 32,
   "id": "419773df",
   "metadata": {},
   "outputs": [
    {
     "name": "stdout",
     "output_type": "stream",
     "text": [
      "[[5 2 6 5]\n",
      " [8 6 4 1]\n",
      " [8 9 3 1]]\n",
      "[[5 2 3 1]\n",
      " [8 6 4 1]\n",
      " [8 9 6 5]]\n",
      "[[5 2 3 1]\n",
      " [8 6 4 1]\n",
      " [8 9 6 5]]\n",
      "[[5 2 3 1 5 2 3 1]\n",
      " [8 6 4 1 8 6 4 1]\n",
      " [8 9 6 5 8 9 6 5]]\n",
      "[[5 5 2 2 3 3 1 1]\n",
      " [8 8 6 6 4 4 1 1]\n",
      " [8 8 9 9 6 6 5 5]]\n",
      "4.833333333333333\n",
      "[7.         5.66666667 4.33333333 2.33333333]\n",
      "[8 9 6 5]\n",
      "[1 2 2 2]\n"
     ]
    }
   ],
   "source": [
    "#使用数组进行简单统计分析\n",
    "arr3=np.random.randint(1,10,(3,4))\n",
    "print(arr3)\n",
    "\n",
    "arr3.sort(axis=0) #对数组元素按大小进行排序\n",
    "print(arr3)\n",
    "arr3.argsort(axis=0) #返回排序后的下标\n",
    "print(arr3)\n",
    "\n",
    "print(np.tile(arr3,2)) #对数组进行复制操作\n",
    "print(np.repeat(arr3,2,axis=1)) #对数组与阿奴进行复制\n",
    "\n",
    "print(arr3.mean()) #统计数组所有元素的均值\n",
    "print(arr3.mean(axis=0)) #按列统计数组均值\n",
    "print(arr3.max(axis=0))\n",
    "\n",
    "print(arr3.argmax(axis=0)) #统计每列元素最大值的位置"
   ]
  },
  {
   "cell_type": "code",
   "execution_count": null,
   "id": "951eaed5",
   "metadata": {},
   "outputs": [],
   "source": []
  }
 ],
 "metadata": {
  "kernelspec": {
   "display_name": "Python 3",
   "language": "python",
   "name": "python3"
  },
  "language_info": {
   "codemirror_mode": {
    "name": "ipython",
    "version": 3
   },
   "file_extension": ".py",
   "mimetype": "text/x-python",
   "name": "python",
   "nbconvert_exporter": "python",
   "pygments_lexer": "ipython3",
   "version": "3.8.8"
  }
 },
 "nbformat": 4,
 "nbformat_minor": 5
}
